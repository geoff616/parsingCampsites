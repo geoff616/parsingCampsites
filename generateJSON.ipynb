{
 "cells": [
  {
   "cell_type": "code",
   "execution_count": 276,
   "metadata": {
    "collapsed": false
   },
   "outputs": [],
   "source": [
    "import pandas as pd\n",
    "import requests as req\n",
    "from json import loads, dumps\n",
    "import time \n",
    "import uuid\n",
    "\n",
    "# turn off column width\n",
    "#pd.set_option('display.max_colwidth', -1)"
   ]
  },
  {
   "cell_type": "code",
   "execution_count": 137,
   "metadata": {
    "collapsed": false
   },
   "outputs": [],
   "source": [
    "cols = [\"country\", \"state\", \"city\", \"fbURL\", \"gmapsURL\", \"gmapsJSON\"]\n",
    "campsites = pd.read_csv('campsitesLocationInfo2.csv', sep=\"|\", header=None)\n",
    "campsites.columns = cols"
   ]
  },
  {
   "cell_type": "code",
   "execution_count": 138,
   "metadata": {
    "collapsed": false
   },
   "outputs": [
    {
     "name": "stdout",
     "output_type": "stream",
     "text": [
      "<class 'pandas.core.frame.DataFrame'>\n",
      "Int64Index: 1109 entries, 0 to 1108\n",
      "Data columns (total 6 columns):\n",
      "country      1109 non-null object\n",
      "state        1109 non-null object\n",
      "city         1109 non-null object\n",
      "fbURL        1109 non-null object\n",
      "gmapsURL     1109 non-null object\n",
      "gmapsJSON    1109 non-null object\n",
      "dtypes: object(6)\n",
      "memory usage: 60.6+ KB\n"
     ]
    }
   ],
   "source": [
    "#no null values\n",
    "campsites.info()"
   ]
  },
  {
   "cell_type": "code",
   "execution_count": 139,
   "metadata": {
    "collapsed": false
   },
   "outputs": [
    {
     "data": {
      "text/html": [
       "<div>\n",
       "<table border=\"1\" class=\"dataframe\">\n",
       "  <thead>\n",
       "    <tr style=\"text-align: right;\">\n",
       "      <th></th>\n",
       "      <th>country</th>\n",
       "      <th>state</th>\n",
       "      <th>city</th>\n",
       "      <th>fbURL</th>\n",
       "      <th>gmapsURL</th>\n",
       "      <th>gmapsJSON</th>\n",
       "    </tr>\n",
       "  </thead>\n",
       "  <tbody>\n",
       "    <tr>\n",
       "      <th>count</th>\n",
       "      <td>1109</td>\n",
       "      <td>1109</td>\n",
       "      <td>1109</td>\n",
       "      <td>1109</td>\n",
       "      <td>1109</td>\n",
       "      <td>1109</td>\n",
       "    </tr>\n",
       "    <tr>\n",
       "      <th>unique</th>\n",
       "      <td>142</td>\n",
       "      <td>86</td>\n",
       "      <td>1071</td>\n",
       "      <td>1099</td>\n",
       "      <td>1109</td>\n",
       "      <td>1107</td>\n",
       "    </tr>\n",
       "    <tr>\n",
       "      <th>top</th>\n",
       "      <td>United States</td>\n",
       "      <td>none</td>\n",
       "      <td>Columbia</td>\n",
       "      <td>https://www.facebook.com/groups/free.code.camp.northern.arizona/</td>\n",
       "      <td>https://maps.googleapis.com/maps/api/geocode/json?address=Bristol,England</td>\n",
       "      <td>{ \"results\" : [ { \"address_components\" : [ { \"long_name\" : \"Hull\", \"short_name\" : \"Hull\", \"types\" : [ \"locality\", \"political\" ] }, { \"long_name\" : \"England\", \"short_name\" : \"England\", \"types\" : [ \"administrative_area_level_1\", \"political\" ] }, { \"long_name\" : \"United Kingdom\", \"short_name\" : \"GB\", \"types\" : [ \"country\", \"political\" ] } ], \"formatted_address\" : \"Hull, UK\", \"geometry\" : { \"bounds\" : { \"northeast\" : { \"lat\" : 53.8132502, \"lng\" : -0.2413964 }, \"southwest\" : { \"lat\" : 53.71951499999999, \"lng\" : -0.4225751 } }, \"location\" : { \"lat\" : 53.7456709, \"lng\" : -0.3367413 }, \"location_type\" : \"APPROXIMATE\", \"viewport\" : { \"northeast\" : { \"lat\" : 53.8132502, \"lng\" : -0.2413964 }, \"southwest\" : { \"lat\" : 53.71951499999999, \"lng\" : -0.4225751 } } }, \"place_id\" : \"ChIJrWABfI8g1kcR_zDxgp1-RG0\", \"types\" : [ \"locality\", \"political\" ] } ], \"status\" : \"OK\"}</td>\n",
       "    </tr>\n",
       "    <tr>\n",
       "      <th>freq</th>\n",
       "      <td>359</td>\n",
       "      <td>651</td>\n",
       "      <td>3</td>\n",
       "      <td>4</td>\n",
       "      <td>1</td>\n",
       "      <td>2</td>\n",
       "    </tr>\n",
       "  </tbody>\n",
       "</table>\n",
       "</div>"
      ],
      "text/plain": [
       "              country state      city  \\\n",
       "count   1109           1109  1109       \n",
       "unique  142            86    1071       \n",
       "top     United States  none  Columbia   \n",
       "freq    359            651   3          \n",
       "\n",
       "                                                                   fbURL  \\\n",
       "count   1109                                                               \n",
       "unique  1099                                                               \n",
       "top     https://www.facebook.com/groups/free.code.camp.northern.arizona/   \n",
       "freq    4                                                                  \n",
       "\n",
       "                                                                         gmapsURL  \\\n",
       "count   1109                                                                        \n",
       "unique  1109                                                                        \n",
       "top     https://maps.googleapis.com/maps/api/geocode/json?address=Bristol,England   \n",
       "freq    1                                                                           \n",
       "\n",
       "                                                                                                                                                                                                                                                                                                                                                                                                                                                                                                                                                                                                                                                                                                                                                                                                                                                                                              gmapsJSON  \n",
       "count   1109                                                                                                                                                                                                                                                                                                                                                                                                                                                                                                                                                                                                                                                                                                                                                                                                                                                                                             \n",
       "unique  1107                                                                                                                                                                                                                                                                                                                                                                                                                                                                                                                                                                                                                                                                                                                                                                                                                                                                                             \n",
       "top     { \"results\" : [ { \"address_components\" : [ { \"long_name\" : \"Hull\", \"short_name\" : \"Hull\", \"types\" : [ \"locality\", \"political\" ] }, { \"long_name\" : \"England\", \"short_name\" : \"England\", \"types\" : [ \"administrative_area_level_1\", \"political\" ] }, { \"long_name\" : \"United Kingdom\", \"short_name\" : \"GB\", \"types\" : [ \"country\", \"political\" ] } ], \"formatted_address\" : \"Hull, UK\", \"geometry\" : { \"bounds\" : { \"northeast\" : { \"lat\" : 53.8132502, \"lng\" : -0.2413964 }, \"southwest\" : { \"lat\" : 53.71951499999999, \"lng\" : -0.4225751 } }, \"location\" : { \"lat\" : 53.7456709, \"lng\" : -0.3367413 }, \"location_type\" : \"APPROXIMATE\", \"viewport\" : { \"northeast\" : { \"lat\" : 53.8132502, \"lng\" : -0.2413964 }, \"southwest\" : { \"lat\" : 53.71951499999999, \"lng\" : -0.4225751 } } }, \"place_id\" : \"ChIJrWABfI8g1kcR_zDxgp1-RG0\", \"types\" : [ \"locality\", \"political\" ] } ], \"status\" : \"OK\"}  \n",
       "freq    2                                                                                                                                                                                                                                                                                                                                                                                                                                                                                                                                                                                                                                                                                                                                                                                                                                                                                                "
      ]
     },
     "execution_count": 139,
     "metadata": {},
     "output_type": "execute_result"
    }
   ],
   "source": [
    "# some duplcaite locations (gmapsJSON) and fb URLS\n",
    "# NOTE: duplicate city names are okay and expected\n",
    "campsites.describe()"
   ]
  },
  {
   "cell_type": "code",
   "execution_count": 140,
   "metadata": {
    "collapsed": false
   },
   "outputs": [
    {
     "name": "stdout",
     "output_type": "stream",
     "text": [
      "here are some duplicates facebook groups:\n",
      "              city  \\\n",
      "560   Gdańsk         \n",
      "568   Sopot          \n",
      "739   Flagstaff      \n",
      "741   Phoenix        \n",
      "742   Prescott       \n",
      "743   Scottsdale     \n",
      "744   Sedona         \n",
      "746   Tempe          \n",
      "748   Verde Valley   \n",
      "752   Alameda        \n",
      "756   Berkeley       \n",
      "782   Oakland        \n",
      "854   Centralia      \n",
      "859   Peoria         \n",
      "862   Washington     \n",
      "1067  Centralia      \n",
      "\n",
      "                                                                         fbURL  \n",
      "560   https://www.facebook.com/groups/free.code.camp.trojmiasto/                \n",
      "568   https://www.facebook.com/groups/free.code.camp.trojmiasto/                \n",
      "739   https://www.facebook.com/groups/free.code.camp.northern.arizona/          \n",
      "741   https://www.facebook.com/groups/free.code.camp.tempe.phoenix.scottsdale/  \n",
      "742   https://www.facebook.com/groups/free.code.camp.northern.arizona/          \n",
      "743   https://www.facebook.com/groups/free.code.camp.tempe.phoenix.scottsdale/  \n",
      "744   https://www.facebook.com/groups/free.code.camp.northern.arizona/          \n",
      "746   https://www.facebook.com/groups/free.code.camp.tempe.phoenix.scottsdale/  \n",
      "748   https://www.facebook.com/groups/free.code.camp.northern.arizona/          \n",
      "752   https://www.facebook.com/groups/free.code.camp.berkeley/                  \n",
      "756   https://www.facebook.com/groups/free.code.camp.berkeley/                  \n",
      "782   https://www.facebook.com/groups/free.code.camp.berkeley/                  \n",
      "854   https://www.facebook.com/groups/free.code.camp.centralia/                 \n",
      "859   https://www.facebook.com/groups/free.code.camp.Peoria/                    \n",
      "862   https://www.facebook.com/groups/free.code.camp.Peoria/                    \n",
      "1067  https://www.facebook.com/groups/free.code.camp.centralia/                 \n",
      "these looks intentional\n"
     ]
    }
   ],
   "source": [
    "print 'here are some duplicates facebook groups:'\n",
    "dupFB = campsites[campsites['fbURL'].duplicated(False)]\n",
    "print dupFB[['city', 'fbURL']]\n",
    "print \"these looks intentional\""
   ]
  },
  {
   "cell_type": "code",
   "execution_count": 141,
   "metadata": {
    "collapsed": false
   },
   "outputs": [
    {
     "name": "stdout",
     "output_type": "stream",
     "text": [
      "here are some duplicates google map responses:\n",
      "           country      state                city  \\\n",
      "221  England        none       Hull                 \n",
      "223  England        none       Kingston upon Hull   \n",
      "628  Saudi Arabia   none       Women only group     \n",
      "730  United States  Ambiguous  Hampton Roads        \n",
      "\n",
      "                                                                  fbURL  \\\n",
      "221  https://www.facebook.com/groups/free.code.camp.hull/                 \n",
      "223  https://www.facebook.com/groups/free.code.camp.kingston.upon.hull/   \n",
      "628  https://www.facebook.com/groups/girlscodeksa/                        \n",
      "730  https://www.facebook.com/groups/free.code.camp.hamptonroads/         \n",
      "\n",
      "                                                                                            gmapsURL  \\\n",
      "221  https://maps.googleapis.com/maps/api/geocode/json?address=Hull,England                            \n",
      "223  https://maps.googleapis.com/maps/api/geocode/json?address=Kingston+upon+Hull,England              \n",
      "628  https://maps.googleapis.com/maps/api/geocode/json?address=Women+only+group,Saudi+Arabia           \n",
      "730  https://maps.googleapis.com/maps/api/geocode/json?address=Hampton+Roads,Ambiguous,United+States   \n",
      "\n",
      "                                                                                                                                                                                                                                                                                                                                                                                                                                                                                                                                                                                                                                                                                                                                                                                                                                                                                           gmapsJSON  \n",
      "221  { \"results\" : [ { \"address_components\" : [ { \"long_name\" : \"Hull\", \"short_name\" : \"Hull\", \"types\" : [ \"locality\", \"political\" ] }, { \"long_name\" : \"England\", \"short_name\" : \"England\", \"types\" : [ \"administrative_area_level_1\", \"political\" ] }, { \"long_name\" : \"United Kingdom\", \"short_name\" : \"GB\", \"types\" : [ \"country\", \"political\" ] } ], \"formatted_address\" : \"Hull, UK\", \"geometry\" : { \"bounds\" : { \"northeast\" : { \"lat\" : 53.8132502, \"lng\" : -0.2413964 }, \"southwest\" : { \"lat\" : 53.71951499999999, \"lng\" : -0.4225751 } }, \"location\" : { \"lat\" : 53.7456709, \"lng\" : -0.3367413 }, \"location_type\" : \"APPROXIMATE\", \"viewport\" : { \"northeast\" : { \"lat\" : 53.8132502, \"lng\" : -0.2413964 }, \"southwest\" : { \"lat\" : 53.71951499999999, \"lng\" : -0.4225751 } } }, \"place_id\" : \"ChIJrWABfI8g1kcR_zDxgp1-RG0\", \"types\" : [ \"locality\", \"political\" ] } ], \"status\" : \"OK\"}  \n",
      "223  { \"results\" : [ { \"address_components\" : [ { \"long_name\" : \"Hull\", \"short_name\" : \"Hull\", \"types\" : [ \"locality\", \"political\" ] }, { \"long_name\" : \"England\", \"short_name\" : \"England\", \"types\" : [ \"administrative_area_level_1\", \"political\" ] }, { \"long_name\" : \"United Kingdom\", \"short_name\" : \"GB\", \"types\" : [ \"country\", \"political\" ] } ], \"formatted_address\" : \"Hull, UK\", \"geometry\" : { \"bounds\" : { \"northeast\" : { \"lat\" : 53.8132502, \"lng\" : -0.2413964 }, \"southwest\" : { \"lat\" : 53.71951499999999, \"lng\" : -0.4225751 } }, \"location\" : { \"lat\" : 53.7456709, \"lng\" : -0.3367413 }, \"location_type\" : \"APPROXIMATE\", \"viewport\" : { \"northeast\" : { \"lat\" : 53.8132502, \"lng\" : -0.2413964 }, \"southwest\" : { \"lat\" : 53.71951499999999, \"lng\" : -0.4225751 } } }, \"place_id\" : \"ChIJrWABfI8g1kcR_zDxgp1-RG0\", \"types\" : [ \"locality\", \"political\" ] } ], \"status\" : \"OK\"}  \n",
      "628  { \"results\" : [], \"status\" : \"ZERO_RESULTS\"}                                                                                                                                                                                                                                                                                                                                                                                                                                                                                                                                                                                                                                                                                                                                                                                                                                                     \n",
      "730  { \"results\" : [], \"status\" : \"ZERO_RESULTS\"}                                                                                                                                                                                                                                                                                                                                                                                                                                                                                                                                                                                                                                                                                                                                                                                                                                                     \n",
      "It looks like:\n",
      "-Kingston upon Hull and Hull are the same place according to google maps\n",
      "-Women only group didn't have a city\n",
      "-Hampton Roads is in Virginia\n",
      "NOTE: Dropping these for now, but could be handled better\n"
     ]
    }
   ],
   "source": [
    "print 'here are some duplicates google map responses:'\n",
    "dupLocations = campsites['gmapsJSON'].duplicated(False)\n",
    "print campsites[dupLocations]\n",
    "print \"It looks like:\"\n",
    "print \"-Kingston upon Hull and Hull are the same place according to google maps\"\n",
    "print \"-Women only group didn't have a city\"\n",
    "print \"-Hampton Roads is in Virginia\"\n",
    "print \"NOTE: Dropping these for now, but could be handled better\"\n",
    "campsites = campsites[~dupLocations]"
   ]
  },
  {
   "cell_type": "code",
   "execution_count": null,
   "metadata": {
    "collapsed": false
   },
   "outputs": [],
   "source": [
    "\n"
   ]
  },
  {
   "cell_type": "code",
   "execution_count": 84,
   "metadata": {
    "collapsed": false
   },
   "outputs": [],
   "source": [
    "# MODEL FOR POSTING \n",
    "## {\n",
    "##   \"id\": \"string\",\n",
    "##   \"url\": \"string\",\n",
    "##   \"createdByUsername\": \"string\",\n",
    "##   \"createdAt\": \"2016-03-12\",\n",
    "##   \"lastUpdatedAt\": \"2016-03-12\",\n",
    "##   \"isApproved\": false,\n",
    "##   \"isDeleted\": false,\n",
    "##   \"city\": \"string\",\n",
    "##   \"subdivision\": \"string\",\n",
    "##   \"country\": \"string\",\n",
    "##   \"location\": \"string\",\n",
    "##   \"mapURL\": \"string\",\n",
    "##   \"googleId\": \"string\"\n",
    "## }"
   ]
  },
  {
   "cell_type": "code",
   "execution_count": 288,
   "metadata": {
    "collapsed": false
   },
   "outputs": [],
   "source": [
    "parsedLocations = campsites\n",
    "# build list of dicts to create\n",
    "toCreate = []\n",
    "for index, row in parsedLocations.iterrows():\n",
    "    createDict = {}\n",
    "    # parse info out of dataframe\n",
    "    createDict['city'] = row['city']\n",
    "    createDict['subdivision'] = row['state']\n",
    "    createDict['country'] = row['country']\n",
    "    createDict['url'] = row['fbURL']\n",
    "    # load gmaps json\n",
    "    gmapsInfo = loads(row['gmapsJSON'])['results'][0]\n",
    "    loc = gmapsInfo['geometry']['location']\n",
    "    createDict['location'] = str(loc['lat']) + ',' + str(loc['lng'])\n",
    "    createDict['googleId'] = str(gmapsInfo['place_id'])\n",
    "    # NOTE: mapURL is missing and requires another lookup :/\n",
    "    \n",
    "    # add other info\n",
    "    now = time.strftime('%c')\n",
    "    createDict['id'] = uuid.uuid4().hex\n",
    "    createDict['createdByUsername'] = 'BULKCAMPSITEUPLOAD'\n",
    "    createDict['createdAt'] = now\n",
    "    createDict['lastUpdatedAt'] = now\n",
    "    createDict['isApproved'] = False # requires approval\n",
    "    createDict['isDeleted'] = False \n",
    "    # append json\n",
    "    toCreate.append(createDict)\n",
    "    "
   ]
  },
  {
   "cell_type": "code",
   "execution_count": 273,
   "metadata": {
    "collapsed": false
   },
   "outputs": [
    {
     "data": {
      "text/plain": [
       "'{\"city\": \"Tirana\", \"subdivision\": \"none\", \"isApproved\": false, \"url\": \"https://www.facebook.com/groups/free.code.camp.tirana/\", \"country\": \"Albania\", \"isDeleted\": false, \"createdAt\": \"Sat Mar 12 18:13:58 2016\", \"lastUpdatedAt\": \"Sat Mar 12 18:13:58 2016\", \"location\": \"41.3275459,19.8186982\", \"createdByUsername\": \"BULKCAMPSITEUPLOAD\", \"id\": \"4ee90a2b19ef439089359d210b8bb467\", \"googleId\": \"ChIJ28X6cAQxUBMRIDdlEK-SAAQ\"}'"
      ]
     },
     "execution_count": 273,
     "metadata": {},
     "output_type": "execute_result"
    }
   ],
   "source": [
    "# write out json to file \n",
    "with open('toWrite.json', 'w') as fp:\n",
    "    for campsite in toCreate:\n",
    "        data = dumps(campsite)\n",
    "        fp.write(data + \"\\n\")"
   ]
  },
  {
   "cell_type": "code",
   "execution_count": null,
   "metadata": {
    "collapsed": false
   },
   "outputs": [],
   "source": []
  },
  {
   "cell_type": "code",
   "execution_count": null,
   "metadata": {
    "collapsed": false
   },
   "outputs": [],
   "source": []
  },
  {
   "cell_type": "code",
   "execution_count": null,
   "metadata": {
    "collapsed": false
   },
   "outputs": [],
   "source": []
  },
  {
   "cell_type": "code",
   "execution_count": null,
   "metadata": {
    "collapsed": false
   },
   "outputs": [],
   "source": []
  },
  {
   "cell_type": "code",
   "execution_count": null,
   "metadata": {
    "collapsed": false
   },
   "outputs": [],
   "source": []
  },
  {
   "cell_type": "code",
   "execution_count": null,
   "metadata": {
    "collapsed": false
   },
   "outputs": [],
   "source": []
  },
  {
   "cell_type": "code",
   "execution_count": null,
   "metadata": {
    "collapsed": false
   },
   "outputs": [],
   "source": []
  },
  {
   "cell_type": "code",
   "execution_count": null,
   "metadata": {
    "collapsed": true
   },
   "outputs": [],
   "source": []
  }
 ],
 "metadata": {
  "kernelspec": {
   "display_name": "Python 2",
   "language": "python",
   "name": "python2"
  },
  "language_info": {
   "codemirror_mode": {
    "name": "ipython",
    "version": 2
   },
   "file_extension": ".py",
   "mimetype": "text/x-python",
   "name": "python",
   "nbconvert_exporter": "python",
   "pygments_lexer": "ipython2",
   "version": "2.7.9"
  }
 },
 "nbformat": 4,
 "nbformat_minor": 0
}
