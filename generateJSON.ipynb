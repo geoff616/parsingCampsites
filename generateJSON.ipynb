{
 "cells": [
  {
   "cell_type": "code",
   "execution_count": 23,
   "metadata": {
    "collapsed": false
   },
   "outputs": [],
   "source": [
    "import pandas as pd\n",
    "import requests as req\n",
    "from json import loads, dumps\n",
    "import time \n",
    "import uuid\n",
    "\n",
    "# uncomment to turn off column width\n",
    "#pd.set_option('display.max_colwidth', -1)"
   ]
  },
  {
   "cell_type": "code",
   "execution_count": 24,
   "metadata": {
    "collapsed": false
   },
   "outputs": [],
   "source": [
    "# load data into dataframe\n",
    "campsites = pd.read_csv('data/campsitesLocationInfo2.csv', sep=\"|\", header=None)\n",
    "cols = [\"country\", \"state\", \"city\", \"fbURL\", \"gmapsURL\", \"gmapsJSON\"]\n",
    "campsites.columns = cols"
   ]
  },
  {
   "cell_type": "code",
   "execution_count": 25,
   "metadata": {
    "collapsed": false
   },
   "outputs": [
    {
     "name": "stdout",
     "output_type": "stream",
     "text": [
      "check for null values:\n",
      "<class 'pandas.core.frame.DataFrame'>\n",
      "Int64Index: 1109 entries, 0 to 1108\n",
      "Data columns (total 6 columns):\n",
      "country      1109 non-null object\n",
      "state        1109 non-null object\n",
      "city         1109 non-null object\n",
      "fbURL        1109 non-null object\n",
      "gmapsURL     1109 non-null object\n",
      "gmapsJSON    1109 non-null object\n",
      "dtypes: object(6)\n",
      "memory usage: 60.6+ KB\n",
      "None\n"
     ]
    }
   ],
   "source": [
    "print \"check for null values:\"\n",
    "print campsites.info()"
   ]
  },
  {
   "cell_type": "code",
   "execution_count": 26,
   "metadata": {
    "collapsed": false
   },
   "outputs": [
    {
     "name": "stdout",
     "output_type": "stream",
     "text": [
      " check for duplicates\n",
      "NOTE: duplicate city/state/country names are okay and expected\n",
      "but would expect fbURL, gmapsURL and gmapsJSON to be unique\n",
      "              country state      city  \\\n",
      "count            1109  1109      1109   \n",
      "unique            142    86      1071   \n",
      "top     United States  none  Columbia   \n",
      "freq              359   651         3   \n",
      "\n",
      "                                                    fbURL  \\\n",
      "count                                                1109   \n",
      "unique                                               1099   \n",
      "top     https://www.facebook.com/groups/free.code.camp...   \n",
      "freq                                                    4   \n",
      "\n",
      "                                                 gmapsURL  \\\n",
      "count                                                1109   \n",
      "unique                                               1109   \n",
      "top     https://maps.googleapis.com/maps/api/geocode/j...   \n",
      "freq                                                    1   \n",
      "\n",
      "                                                gmapsJSON  \n",
      "count                                                1109  \n",
      "unique                                               1107  \n",
      "top     { \"results\" : [ { \"address_components\" : [ { \"...  \n",
      "freq                                                    2  \n"
     ]
    }
   ],
   "source": [
    "print\" check for duplicates\"\n",
    "print \"NOTE: duplicate city/state/country names are okay and expected\"\n",
    "print \"but would expect fbURL, gmapsURL and gmapsJSON to be unique\"\n",
    "print campsites.describe()"
   ]
  },
  {
   "cell_type": "code",
   "execution_count": 27,
   "metadata": {
    "collapsed": false
   },
   "outputs": [
    {
     "name": "stdout",
     "output_type": "stream",
     "text": [
      "here are some duplicates facebook groups:\n",
      "              city                                              fbURL\n",
      "560         Gdańsk  https://www.facebook.com/groups/free.code.camp...\n",
      "568          Sopot  https://www.facebook.com/groups/free.code.camp...\n",
      "739      Flagstaff  https://www.facebook.com/groups/free.code.camp...\n",
      "741        Phoenix  https://www.facebook.com/groups/free.code.camp...\n",
      "742       Prescott  https://www.facebook.com/groups/free.code.camp...\n",
      "743     Scottsdale  https://www.facebook.com/groups/free.code.camp...\n",
      "744         Sedona  https://www.facebook.com/groups/free.code.camp...\n",
      "746          Tempe  https://www.facebook.com/groups/free.code.camp...\n",
      "748   Verde Valley  https://www.facebook.com/groups/free.code.camp...\n",
      "752        Alameda  https://www.facebook.com/groups/free.code.camp...\n",
      "756       Berkeley  https://www.facebook.com/groups/free.code.camp...\n",
      "782        Oakland  https://www.facebook.com/groups/free.code.camp...\n",
      "854      Centralia  https://www.facebook.com/groups/free.code.camp...\n",
      "859         Peoria  https://www.facebook.com/groups/free.code.camp...\n",
      "862     Washington  https://www.facebook.com/groups/free.code.camp...\n",
      "1067     Centralia  https://www.facebook.com/groups/free.code.camp...\n",
      "these looks intentional\n"
     ]
    }
   ],
   "source": [
    "print 'here are some duplicates facebook groups:'\n",
    "dupFB = campsites[campsites['fbURL'].duplicated(False)]\n",
    "print dupFB[['city', 'fbURL']]\n",
    "print \"these looks intentional\""
   ]
  },
  {
   "cell_type": "code",
   "execution_count": 28,
   "metadata": {
    "collapsed": false
   },
   "outputs": [
    {
     "name": "stdout",
     "output_type": "stream",
     "text": [
      "here are some duplicates google map responses:\n",
      "           country      state                city  \\\n",
      "221        England       none                Hull   \n",
      "223        England       none  Kingston upon Hull   \n",
      "628   Saudi Arabia       none    Women only group   \n",
      "730  United States  Ambiguous       Hampton Roads   \n",
      "\n",
      "                                                 fbURL  \\\n",
      "221  https://www.facebook.com/groups/free.code.camp...   \n",
      "223  https://www.facebook.com/groups/free.code.camp...   \n",
      "628      https://www.facebook.com/groups/girlscodeksa/   \n",
      "730  https://www.facebook.com/groups/free.code.camp...   \n",
      "\n",
      "                                              gmapsURL  \\\n",
      "221  https://maps.googleapis.com/maps/api/geocode/j...   \n",
      "223  https://maps.googleapis.com/maps/api/geocode/j...   \n",
      "628  https://maps.googleapis.com/maps/api/geocode/j...   \n",
      "730  https://maps.googleapis.com/maps/api/geocode/j...   \n",
      "\n",
      "                                             gmapsJSON  \n",
      "221  { \"results\" : [ { \"address_components\" : [ { \"...  \n",
      "223  { \"results\" : [ { \"address_components\" : [ { \"...  \n",
      "628       { \"results\" : [], \"status\" : \"ZERO_RESULTS\"}  \n",
      "730       { \"results\" : [], \"status\" : \"ZERO_RESULTS\"}  \n",
      "It looks like:\n",
      "-Kingston upon Hull and Hull are the same place according to google maps\n",
      "-Women only group didn't have a city\n",
      "-Hampton Roads is in Virginia\n",
      "NOTE: Dropping these for now, but could be handled better\n"
     ]
    }
   ],
   "source": [
    "print 'here are some duplicates google map responses:'\n",
    "dupLocations = campsites['gmapsJSON'].duplicated(False)\n",
    "print campsites[dupLocations]\n",
    "print \"It looks like:\"\n",
    "print \"-Kingston upon Hull and Hull are the same place according to google maps\"\n",
    "print \"-Women only group didn't have a city\"\n",
    "print \"-Hampton Roads is in Virginia\"\n",
    "print \"NOTE: Dropping these for now, but could be handled better\"\n",
    "droppedLocations = campsites[~dupLocations]"
   ]
  },
  {
   "cell_type": "code",
   "execution_count": 29,
   "metadata": {
    "collapsed": false
   },
   "outputs": [],
   "source": [
    "# MODEL FOR POSTING TO API\n",
    "## {\n",
    "##   \"id\": \"string\",\n",
    "##   \"url\": \"string\",\n",
    "##   \"createdByUsername\": \"string\",\n",
    "##   \"createdAt\": \"2016-03-12\",\n",
    "##   \"lastUpdatedAt\": \"2016-03-12\",\n",
    "##   \"isApproved\": false,\n",
    "##   \"isDeleted\": false,\n",
    "##   \"city\": \"string\",\n",
    "##   \"subdivision\": \"string\",\n",
    "##   \"country\": \"string\",\n",
    "##   \"location\": \"string\",\n",
    "##   \"mapURL\": \"string\",\n",
    "##   \"googleId\": \"string\"\n",
    "## }\n",
    "\n",
    "\n",
    "# build list of dicts to create\n",
    "toCreate = []\n",
    "#loop over cleaned df to build \n",
    "for index, row in droppedLocations.iterrows():\n",
    "    createDict = {}\n",
    "    # copy info from dataframe\n",
    "    createDict['city'] = row['city']\n",
    "    createDict['subdivision'] = row['state']\n",
    "    createDict['country'] = row['country']\n",
    "    createDict['url'] = row['fbURL']\n",
    "\n",
    "    # parse Google maps JSON\n",
    "    gmapsInfo = loads(row['gmapsJSON'])['results'][0]\n",
    "    loc = gmapsInfo['geometry']['location']\n",
    "    createDict['location'] = str(loc['lat']) + ',' + str(loc['lng'])\n",
    "    createDict['googleId'] = str(gmapsInfo['place_id'])\n",
    "    # NOTE: mapURL is missing from this API resonse and requires another lookup :/\n",
    "    \n",
    "    # add other info\n",
    "    # unique ID for campsite\n",
    "    createDict['id'] = uuid.uuid4().hex\n",
    "    # username to check against in bash script\n",
    "    createDict['createdByUsername'] = 'BULKCAMPSITEUPLOAD'\n",
    "    # current time\n",
    "    now = time.strftime('%c')\n",
    "    createDict['createdAt'] = now\n",
    "    createDict['lastUpdatedAt'] = now\n",
    "    # this automatically approves the campsites, could be set to false \n",
    "    # if you want to manually approve 1000+ campsites!\n",
    "    createDict['isApproved'] = True \n",
    "    createDict['isDeleted'] = False \n",
    "    # append json to list\n",
    "    toCreate.append(createDict)\n",
    "    "
   ]
  },
  {
   "cell_type": "code",
   "execution_count": 37,
   "metadata": {
    "collapsed": false
   },
   "outputs": [
    {
     "ename": "TypeError",
     "evalue": "must be unicode, not str",
     "output_type": "error",
     "traceback": [
      "\u001b[0;31m---------------------------------------------------------------------------\u001b[0m",
      "\u001b[0;31mTypeError\u001b[0m                                 Traceback (most recent call last)",
      "\u001b[0;32m<ipython-input-37-dfeb30f96ebf>\u001b[0m in \u001b[0;36m<module>\u001b[0;34m()\u001b[0m\n\u001b[1;32m      5\u001b[0m     \u001b[0;32mfor\u001b[0m \u001b[0mcampsite\u001b[0m \u001b[0;32min\u001b[0m \u001b[0mtoCreate\u001b[0m\u001b[0;34m:\u001b[0m\u001b[0;34m\u001b[0m\u001b[0m\n\u001b[1;32m      6\u001b[0m         \u001b[0mdata\u001b[0m \u001b[0;34m=\u001b[0m \u001b[0mdumps\u001b[0m\u001b[0;34m(\u001b[0m\u001b[0mcampsite\u001b[0m\u001b[0;34m)\u001b[0m\u001b[0;34m\u001b[0m\u001b[0m\n\u001b[0;32m----> 7\u001b[0;31m         \u001b[0mfp\u001b[0m\u001b[0;34m.\u001b[0m\u001b[0mwrite\u001b[0m\u001b[0;34m(\u001b[0m\u001b[0mdata\u001b[0m \u001b[0;34m+\u001b[0m \u001b[0;34m\"\\n\"\u001b[0m\u001b[0;34m)\u001b[0m\u001b[0;34m\u001b[0m\u001b[0m\n\u001b[0m\u001b[1;32m      8\u001b[0m     \u001b[0mfp\u001b[0m\u001b[0;34m.\u001b[0m\u001b[0mclose\u001b[0m\u001b[0;34m(\u001b[0m\u001b[0;34m)\u001b[0m\u001b[0;34m\u001b[0m\u001b[0m\n",
      "\u001b[0;31mTypeError\u001b[0m: must be unicode, not str"
     ]
    }
   ],
   "source": [
    "import codecs\n",
    "# write out json to file \n",
    "import io\n",
    "with io.open(\"data/toWrite.json\", \"w\", encoding=\"latin-1\") as fp:\n",
    "    for campsite in toCreate:\n",
    "        data = dumps(campsite)\n",
    "        fp.write(data + \"\\n\")\n",
    "    fp.close()"
   ]
  },
  {
   "cell_type": "code",
   "execution_count": null,
   "metadata": {
    "collapsed": true
   },
   "outputs": [],
   "source": []
  }
 ],
 "metadata": {
  "kernelspec": {
   "display_name": "Python 2",
   "language": "python",
   "name": "python2"
  },
  "language_info": {
   "codemirror_mode": {
    "name": "ipython",
    "version": 2
   },
   "file_extension": ".py",
   "mimetype": "text/x-python",
   "name": "python",
   "nbconvert_exporter": "python",
   "pygments_lexer": "ipython2",
   "version": "2.7.9"
  }
 },
 "nbformat": 4,
 "nbformat_minor": 0
}
